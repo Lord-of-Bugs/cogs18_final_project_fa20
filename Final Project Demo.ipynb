{
 "cells": [
  {
   "cell_type": "markdown",
   "metadata": {},
   "source": [
    "# Final Project: Simple Statistical Analysis Package for Bivariate Data\n",
    "\n",
    "## Why choose to do statistical analysis?\n",
    "I am currently also taking COGS14B, which is a course focused on statistical analysis methods, including but not limited to methods for analyzing bivariate data, such as the well-known Student's t-test, z-test, and such. I thought it would benefit my understanding of materials from both courses if I were able to break down the logic of those statistical analysis methods and build them back, line by line, into a fully-functional Python program. I will hereby present my work below:"
   ]
  },
  {
   "cell_type": "code",
   "execution_count": 1,
   "metadata": {},
   "outputs": [],
   "source": [
    "# This cell gives an overview of the modules imported from the standard Python library\n",
    "# and those imported as my original creation.\n",
    "\n",
    "# This is the main statistical analysis package.\n",
    "from simple_statistical_analysis_package_for_bivariate_data import student_t_tests, z_test, linear_regression, finding_correlation_coefficient_r \n",
    "# Good old friends from the standard Python library.\n",
    "import string\n",
    "import math\n",
    "import numpy as np\n",
    "import re"
   ]
  },
  {
   "cell_type": "markdown",
   "metadata": {},
   "source": [
    "If you would what like to find out more in detail about what each of the statistical analysis method does, check out the docstrings for the functions by typing in an empty cell one of the functions you are interested in--`student_t_tests`, `z_test`, `linear_regression`, or `finding_correlation_coefficient_r`--then finish the line with **?**."
   ]
  },
  {
   "cell_type": "markdown",
   "metadata": {},
   "source": [
    "### Let's first check out the z-test as a starter.\n",
    "Suppose you have an idea about the general class average on a midterm being 79% with a standard deviation of 3%. You then draw a convenience sample of 10 students, who are all in your study group, and you are interested in whether your group has performanced significantly different from the class on average since you guys attended the same review session and together created the same cheat sheet. What you collected at hand is a sample mean score of 86%, and luckily knowing these four data--population mean, population standard deviation, sample mean, and sample size--is enough for performing a z-test to answer your question."
   ]
  },
  {
   "cell_type": "code",
   "execution_count": 2,
   "metadata": {},
   "outputs": [
    {
     "data": {
      "text/plain": [
       "'The calculated z-statistic is: 7.378647873726218'"
      ]
     },
     "execution_count": 2,
     "metadata": {},
     "output_type": "execute_result"
    }
   ],
   "source": [
    "z_test(79, 3, 86, 10)"
   ]
  },
  {
   "cell_type": "markdown",
   "metadata": {},
   "source": [
    "### Then, let's see a few t-test scenarios.\n",
    "You will be prompted to provide the data that you would like to be analyzed. If you don't have anything right off the top of your head, try type in a few random numbers, or paste in the following demo datasets sequentially for each t-test prompt.\n",
    "\n",
    "87 84 83 86.8 89 87.5 87.25 80 91 91 84.5 80\n",
    "\n",
    "81\n",
    "\n",
    "105 119 100 97 96 101 94 95 98\n",
    "\n",
    "96 99 94 89 96 93 88 105 88\n",
    "\n",
    "9 8 7 7 8 9 7 7 8\n",
    "\n",
    "7 7 3 8 6 4 6 7 4"
   ]
  },
  {
   "cell_type": "code",
   "execution_count": 3,
   "metadata": {},
   "outputs": [
    {
     "name": "stdout",
     "output_type": "stream",
     "text": [
      "Which type of t-test are you trying to perform:\n",
      "\tA. Single-sample t-test.\n",
      "\tB. Independent samples t-test.\n",
      "\tC. Dependent samples t-test.\n",
      "a\n",
      "Please paste your single-sample data in the form of a list below:\n",
      "87 84 83 86.8 89 87.5 87.25 80 91 91 84.5 80\n",
      "What is the population mean that your data is aiming to estimate?\n",
      "81\n"
     ]
    },
    {
     "data": {
      "text/plain": [
       "'Here is your calculated t_statistic: 4.59131333857016'"
      ]
     },
     "execution_count": 3,
     "metadata": {},
     "output_type": "execute_result"
    }
   ],
   "source": [
    "student_t_tests()"
   ]
  },
  {
   "cell_type": "markdown",
   "metadata": {},
   "source": [
    "If you select option A choose to copy and paste in the frist two demo datasets when propmted, you output should be **'Here is your calculated t_statistic: 4.59131333857016'**."
   ]
  },
  {
   "cell_type": "code",
   "execution_count": 4,
   "metadata": {},
   "outputs": [
    {
     "name": "stdout",
     "output_type": "stream",
     "text": [
      "Which type of t-test are you trying to perform:\n",
      "\tA. Single-sample t-test.\n",
      "\tB. Independent samples t-test.\n",
      "\tC. Dependent samples t-test.\n",
      "b\n",
      "Please paste your first dataset to the independent samples in the form of a list below:\n",
      "105 119 100 97 96 101 94 95 98\n",
      "Please paste your second dataset to the independent samples in the form of a list below:\n",
      "96 99 94 89 96 93 88 105 88\n"
     ]
    },
    {
     "data": {
      "text/plain": [
       "'Here is your calculated t_statistic: 1.9947880650265368'"
      ]
     },
     "execution_count": 4,
     "metadata": {},
     "output_type": "execute_result"
    }
   ],
   "source": [
    "student_t_tests()"
   ]
  },
  {
   "cell_type": "markdown",
   "metadata": {},
   "source": [
    "If you select option B choose to copy and paste in the third and fourth demo datasets when propmted, you output should be **'Here is your calculated t_statistic: 1.9947880650265368'**."
   ]
  },
  {
   "cell_type": "code",
   "execution_count": 5,
   "metadata": {},
   "outputs": [
    {
     "name": "stdout",
     "output_type": "stream",
     "text": [
      "Which type of t-test are you trying to perform:\n",
      "\tA. Single-sample t-test.\n",
      "\tB. Independent samples t-test.\n",
      "\tC. Dependent samples t-test.\n",
      "c\n",
      "Please paste your pre-treatment dataset in the form of a list below:\n",
      "9 8 7 7 8 9 7 7 8\n",
      "Please paste your post-treatment dataset in the form of a list below:\n",
      "7 7 3 8 6 4 6 7 4\n"
     ]
    },
    {
     "data": {
      "text/plain": [
       "'Here is your calculated t_statistic: -3.0'"
      ]
     },
     "execution_count": 5,
     "metadata": {},
     "output_type": "execute_result"
    }
   ],
   "source": [
    "student_t_tests()"
   ]
  },
  {
   "cell_type": "markdown",
   "metadata": {},
   "source": [
    "If you select option C choose to copy and paste in the last two demo datasets when propmted, you output should be **'Here is your calculated t_statistic: -3.0'**."
   ]
  },
  {
   "cell_type": "markdown",
   "metadata": {},
   "source": [
    "### Now, the classical linear regression and correlational analysis that would be performed on any set of bivariate data."
   ]
  },
  {
   "cell_type": "markdown",
   "metadata": {},
   "source": [
    "Suppose you want to find out if there's any association between study hours and test performances. You obtained two datasets from surveying your friends about how they did on the MATH20C midterm, one dataset contains their student hour and the other has their corresponding grades."
   ]
  },
  {
   "cell_type": "code",
   "execution_count": 6,
   "metadata": {},
   "outputs": [],
   "source": [
    "study_hours = [11, 3, 9, 5, 1, 7]\n",
    "test_grades = [91, 77, 90, 80, 75, 85]"
   ]
  },
  {
   "cell_type": "code",
   "execution_count": 7,
   "metadata": {},
   "outputs": [
    {
     "name": "stdout",
     "output_type": "stream",
     "text": [
      "The line of linear regression for these two datasets is y = 1.7714285714285714x + 72.37142857142857\n"
     ]
    }
   ],
   "source": [
    "linear_regression(study_hours, test_grades)"
   ]
  },
  {
   "cell_type": "code",
   "execution_count": 8,
   "metadata": {},
   "outputs": [
    {
     "name": "stdout",
     "output_type": "stream",
     "text": [
      "The Pearson's correlation coefficient for this pair of data is 0.9858672630886147, indicating a strong association between the two.\n"
     ]
    }
   ],
   "source": [
    "finding_correlation_coefficient_r(study_hours, test_grades)"
   ]
  },
  {
   "cell_type": "markdown",
   "metadata": {},
   "source": [
    "### Lastly, I will wrap up by calling the test functions designed for debugging my statistical analysis functions in ways that I can come up with to make sure that the functions are validated bugs-free."
   ]
  },
  {
   "cell_type": "code",
   "execution_count": 9,
   "metadata": {},
   "outputs": [
    {
     "name": "stdout",
     "output_type": "stream",
     "text": [
      "\u001b[1m============================= test session starts ==============================\u001b[0m\n",
      "platform darwin -- Python 3.8.3, pytest-5.4.3, py-1.9.0, pluggy-0.13.1\n",
      "rootdir: /Users/Muchan/cogs18_final_project/modules\n",
      "collected 6 items                                                              \u001b[0m\n",
      "\n",
      "test_functions.py \u001b[32m.\u001b[0m\u001b[32m.\u001b[0m\u001b[32m.\u001b[0m\u001b[32m.\u001b[0m\u001b[32m.\u001b[0m\u001b[32m.\u001b[0m\u001b[32m                                                 [100%]\u001b[0m\n",
      "\n",
      "\u001b[32m============================== \u001b[32m\u001b[1m6 passed\u001b[0m\u001b[32m in 0.30s\u001b[0m\u001b[32m ===============================\u001b[0m\n"
     ]
    }
   ],
   "source": [
    "!pytest test_functions.py"
   ]
  },
  {
   "cell_type": "markdown",
   "metadata": {},
   "source": [
    "### Link to all project codes on GitHub: \n",
    "https://github.com/Lord-of-Bugs/cogs18_final_project_fa20"
   ]
  }
 ],
 "metadata": {
  "kernelspec": {
   "display_name": "Python 3",
   "language": "python",
   "name": "python3"
  },
  "language_info": {
   "codemirror_mode": {
    "name": "ipython",
    "version": 3
   },
   "file_extension": ".py",
   "mimetype": "text/x-python",
   "name": "python",
   "nbconvert_exporter": "python",
   "pygments_lexer": "ipython3",
   "version": "3.8.3"
  }
 },
 "nbformat": 4,
 "nbformat_minor": 4
}
